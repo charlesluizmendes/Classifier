{
 "cells": [
  {
   "cell_type": "markdown",
   "id": "00eb3585",
   "metadata": {},
   "source": [
    "# Classificação de texto com BERT\n",
    "\n",
    "## O que é classificação de texto?\n",
    "\n",
    "Classificação de texto é um subcampo de aprendizado de máquina que ensina computadores a classificar texto em diferentes categorias. É comumente usado como uma técnica de aprendizado supervisionado, o que significa que o algoritmo é treinado em um conjunto de textos que já foram rotulados com suas respectivas categorias. Uma vez treinado nesses dados, o algoritmo pode usar o que aprendeu para fazer previsões sobre novos textos não rotulados.\n",
    "\n",
    "O algoritmo procura padrões no texto para determinar a qual categoria ele pertence. É como quando aprendemos a reconhecer um certo tipo de flor — começamos a notar certas características que a distinguem de outros tipos de flores. Com a classificação de texto, o algoritmo está fazendo a mesma coisa, mas com palavras e frases.\n",
    "\n",
    "A classificação de texto é uma ferramenta versátil amplamente usada em muitas aplicações do mundo real que você pode ter encontrado. Por exemplo, um e-mail que acabou na sua pasta de spam é a classificação de texto em ação. O modelo pode diferenciar entre e-mails de spam e não spam estudando palavras ou frases específicas que identificam um determinado e-mail como spam, como \"Parabéns, você ganhou\" ou \"Hoje é seu dia de sorte\".\n",
    "\n",
    "A classificação de texto também é valiosa na análise do sentimento de postagens de mídia social, particularmente quando se trata de detectar sentimentos negativos como discurso de ódio. Ao usar um modelo de aprendizado de máquina, o texto pode ser classificado e monitorado para linguagem ofensiva e discurso de ódio.\n",
    "\n",
    "Mas a classificação de texto não serve apenas para aplicações sérias — ela também pode ser usada para coisas divertidas, como categorizar artigos de notícias e vídeos por tópico. Dessa forma, um usuário pode facilmente encontrar artigos e vídeos que lhe interessam sem ter que peneirar conteúdo irrelevante. A classificação de texto é realmente uma ferramenta poderosa com uma variedade de aplicações práticas.\n",
    "\n",
    "## O que é BERT para aprendizado profundo?\n",
    "\n",
    "BERT, abreviação de Bidirectional Encoder Representations from Transformers, é um poderoso modelo de processamento de linguagem natural (PLN) desenvolvido pelo Google que usa uma arquitetura de rede neural profunda baseada no modelo de transformador de última geração.\n",
    "\n",
    "Como dissemos antes, a arquitetura do modelo BERT é baseada em uma rede neural profunda chamada transformador, que é diferente dos modelos NLP tradicionais que processam texto uma palavra por vez. Em vez disso, os transformadores podem processar toda a entrada de texto de uma só vez, o que os ajuda a capturar as relações entre palavras e frases de forma mais eficaz.\n",
    "\n",
    "## Como o modelo BERT funciona para classificação de texto?\n",
    "\n",
    "O BERT usa um codificador transformador bidirecional multicamadas para representar o texto de entrada em um espaço de alta dimensão. Isso significa que ele pode levar em conta todo o contexto de cada palavra na frase, o que o ajuda a entender melhor o significado do texto.\n",
    "\n",
    "Uma das coisas mais interessantes sobre o BERT é que ele é um modelo pré-treinado. Isso significa que o BERT pode ser treinado em grandes quantidades de dados de texto, como livros, artigos e sites, antes de ser ajustado para tarefas específicas de PNL downstream, incluindo classificação de texto.\n",
    "\n",
    "Ao pré-treinar em um grande corpus de dados de texto, o BERT pode desenvolver uma compreensão profunda da estrutura e do significado subjacentes da linguagem, tornando-o uma ferramenta altamente eficaz para tarefas de PNL. Uma vez pré-treinado, o BERT pode ser ajustado para tarefas específicas, o que permite que ele se adapte às nuances específicas da tarefa e melhore sua precisão.\n",
    "\n",
    "É importante notar que há duas variações diferentes do BERT: BERT base e BERT grande. Para o restante deste artigo, utilizaremos o modelo base do BERT, que é uma versão mais compacta do BERT que ainda mantém uma forte compreensão do contexto e das nuances linguísticas. Ao empregar o BERT base, podemos aproveitar suas habilidades enquanto reduzimos as demandas computacionais, tornando-o mais adequado para uma variedade de tarefas de classificação de texto e alcançando resultados notáveis.\n",
    "\n",
    "## Tutorial sobre classificação de texto usando BERT\n",
    "\n",
    "Então por que ajustamos o BERT no conjunto de dados de resenhas de filmes do IMDB? Bem, queremos adaptar o já poderoso modelo BERT para tarefas de análise de sentimentos. O BERT é excelente para entender a estrutura e o contexto da linguagem, mas não tem habilidades naturais de análise de sentimentos. Ao ajustar o BERT para classificação de texto com um conjunto de dados rotulado, como resenhas de filmes do IMDB, damos a ele a capacidade de prever com precisão os sentimentos nas frases que ele encontra.\n",
    "\n",
    "Caso você queira executar o modelo abaixo, você pode encontrar o conjunto de dados IMDB no seguinte link:\n",
    "\n",
    "[Conjunto de dados do IMDB com 50 mil críticas de filmes](https://www.kaggle.com/datasets/lakshmi25npathi/imdb-dataset-of-50k-movie-reviews)."
   ]
  },
  {
   "cell_type": "markdown",
   "id": "7f3c5c77",
   "metadata": {},
   "source": [
    "## Etapa 1: Importe as bibliotecas necessárias\n",
    "\n",
    "Este trecho de código é sobre importar as ferramentas essenciais que precisamos para nosso projeto. Estamos usando PyTorch para a funcionalidade de aprendizado profundo, a biblioteca transformers para BERT e métodos essenciais da biblioteca scikit-learn para manipular dados e verificar o quão bem nosso modelo funciona."
   ]
  },
  {
   "cell_type": "code",
   "execution_count": 1,
   "id": "745a33fd",
   "metadata": {},
   "outputs": [
    {
     "name": "stdout",
     "output_type": "stream",
     "text": [
      "Requirement already satisfied: transformers in d:\\visual code\\classifier\\venv\\lib\\site-packages (4.51.1)\n",
      "Requirement already satisfied: filelock in d:\\visual code\\classifier\\venv\\lib\\site-packages (from transformers) (3.18.0)\n",
      "Requirement already satisfied: huggingface-hub<1.0,>=0.30.0 in d:\\visual code\\classifier\\venv\\lib\\site-packages (from transformers) (0.30.2)\n",
      "Requirement already satisfied: numpy>=1.17 in d:\\visual code\\classifier\\venv\\lib\\site-packages (from transformers) (2.2.4)\n",
      "Requirement already satisfied: packaging>=20.0 in d:\\visual code\\classifier\\venv\\lib\\site-packages (from transformers) (24.2)\n",
      "Requirement already satisfied: pyyaml>=5.1 in d:\\visual code\\classifier\\venv\\lib\\site-packages (from transformers) (6.0.2)\n",
      "Requirement already satisfied: regex!=2019.12.17 in d:\\visual code\\classifier\\venv\\lib\\site-packages (from transformers) (2024.11.6)\n",
      "Requirement already satisfied: requests in d:\\visual code\\classifier\\venv\\lib\\site-packages (from transformers) (2.32.3)\n",
      "Requirement already satisfied: tokenizers<0.22,>=0.21 in d:\\visual code\\classifier\\venv\\lib\\site-packages (from transformers) (0.21.1)\n",
      "Requirement already satisfied: safetensors>=0.4.3 in d:\\visual code\\classifier\\venv\\lib\\site-packages (from transformers) (0.5.3)\n",
      "Requirement already satisfied: tqdm>=4.27 in d:\\visual code\\classifier\\venv\\lib\\site-packages (from transformers) (4.67.1)\n",
      "Requirement already satisfied: fsspec>=2023.5.0 in d:\\visual code\\classifier\\venv\\lib\\site-packages (from huggingface-hub<1.0,>=0.30.0->transformers) (2025.3.2)\n",
      "Requirement already satisfied: typing-extensions>=3.7.4.3 in d:\\visual code\\classifier\\venv\\lib\\site-packages (from huggingface-hub<1.0,>=0.30.0->transformers) (4.13.1)\n",
      "Requirement already satisfied: colorama in d:\\visual code\\classifier\\venv\\lib\\site-packages (from tqdm>=4.27->transformers) (0.4.6)\n",
      "Requirement already satisfied: charset-normalizer<4,>=2 in d:\\visual code\\classifier\\venv\\lib\\site-packages (from requests->transformers) (3.4.1)\n",
      "Requirement already satisfied: idna<4,>=2.5 in d:\\visual code\\classifier\\venv\\lib\\site-packages (from requests->transformers) (3.10)\n",
      "Requirement already satisfied: urllib3<3,>=1.21.1 in d:\\visual code\\classifier\\venv\\lib\\site-packages (from requests->transformers) (2.3.0)\n",
      "Requirement already satisfied: certifi>=2017.4.17 in d:\\visual code\\classifier\\venv\\lib\\site-packages (from requests->transformers) (2025.1.31)\n"
     ]
    },
    {
     "name": "stderr",
     "output_type": "stream",
     "text": [
      "\n",
      "[notice] A new release of pip is available: 24.0 -> 25.0.1\n",
      "[notice] To update, run: python.exe -m pip install --upgrade pip\n"
     ]
    },
    {
     "name": "stdout",
     "output_type": "stream",
     "text": [
      "Requirement already satisfied: scikit-learn in d:\\visual code\\classifier\\venv\\lib\\site-packages (1.6.1)\n",
      "Requirement already satisfied: numpy>=1.19.5 in d:\\visual code\\classifier\\venv\\lib\\site-packages (from scikit-learn) (2.2.4)\n",
      "Requirement already satisfied: scipy>=1.6.0 in d:\\visual code\\classifier\\venv\\lib\\site-packages (from scikit-learn) (1.15.2)\n",
      "Requirement already satisfied: joblib>=1.2.0 in d:\\visual code\\classifier\\venv\\lib\\site-packages (from scikit-learn) (1.4.2)\n",
      "Requirement already satisfied: threadpoolctl>=3.1.0 in d:\\visual code\\classifier\\venv\\lib\\site-packages (from scikit-learn) (3.6.0)\n"
     ]
    },
    {
     "name": "stderr",
     "output_type": "stream",
     "text": [
      "\n",
      "[notice] A new release of pip is available: 24.0 -> 25.0.1\n",
      "[notice] To update, run: python.exe -m pip install --upgrade pip\n"
     ]
    },
    {
     "name": "stdout",
     "output_type": "stream",
     "text": [
      "Requirement already satisfied: pandas in d:\\visual code\\classifier\\venv\\lib\\site-packages (2.2.3)\n",
      "Requirement already satisfied: numpy>=1.26.0 in d:\\visual code\\classifier\\venv\\lib\\site-packages (from pandas) (2.2.4)\n",
      "Requirement already satisfied: python-dateutil>=2.8.2 in d:\\visual code\\classifier\\venv\\lib\\site-packages (from pandas) (2.9.0.post0)\n",
      "Requirement already satisfied: pytz>=2020.1 in d:\\visual code\\classifier\\venv\\lib\\site-packages (from pandas) (2025.2)\n",
      "Requirement already satisfied: tzdata>=2022.7 in d:\\visual code\\classifier\\venv\\lib\\site-packages (from pandas) (2025.2)\n",
      "Requirement already satisfied: six>=1.5 in d:\\visual code\\classifier\\venv\\lib\\site-packages (from python-dateutil>=2.8.2->pandas) (1.17.0)\n"
     ]
    },
    {
     "name": "stderr",
     "output_type": "stream",
     "text": [
      "\n",
      "[notice] A new release of pip is available: 24.0 -> 25.0.1\n",
      "[notice] To update, run: python.exe -m pip install --upgrade pip\n"
     ]
    },
    {
     "name": "stdout",
     "output_type": "stream",
     "text": [
      "Requirement already satisfied: accelerate in d:\\visual code\\classifier\\venv\\lib\\site-packages (1.6.0)\n",
      "Requirement already satisfied: numpy<3.0.0,>=1.17 in d:\\visual code\\classifier\\venv\\lib\\site-packages (from accelerate) (2.2.4)\n",
      "Requirement already satisfied: packaging>=20.0 in d:\\visual code\\classifier\\venv\\lib\\site-packages (from accelerate) (24.2)\n",
      "Requirement already satisfied: psutil in d:\\visual code\\classifier\\venv\\lib\\site-packages (from accelerate) (7.0.0)\n",
      "Requirement already satisfied: pyyaml in d:\\visual code\\classifier\\venv\\lib\\site-packages (from accelerate) (6.0.2)\n",
      "Requirement already satisfied: torch>=2.0.0 in d:\\visual code\\classifier\\venv\\lib\\site-packages (from accelerate) (2.5.1+cu121)\n",
      "Requirement already satisfied: huggingface-hub>=0.21.0 in d:\\visual code\\classifier\\venv\\lib\\site-packages (from accelerate) (0.30.2)\n",
      "Requirement already satisfied: safetensors>=0.4.3 in d:\\visual code\\classifier\\venv\\lib\\site-packages (from accelerate) (0.5.3)\n",
      "Requirement already satisfied: filelock in d:\\visual code\\classifier\\venv\\lib\\site-packages (from huggingface-hub>=0.21.0->accelerate) (3.18.0)\n",
      "Requirement already satisfied: fsspec>=2023.5.0 in d:\\visual code\\classifier\\venv\\lib\\site-packages (from huggingface-hub>=0.21.0->accelerate) (2025.3.2)\n",
      "Requirement already satisfied: requests in d:\\visual code\\classifier\\venv\\lib\\site-packages (from huggingface-hub>=0.21.0->accelerate) (2.32.3)\n",
      "Requirement already satisfied: tqdm>=4.42.1 in d:\\visual code\\classifier\\venv\\lib\\site-packages (from huggingface-hub>=0.21.0->accelerate) (4.67.1)\n",
      "Requirement already satisfied: typing-extensions>=3.7.4.3 in d:\\visual code\\classifier\\venv\\lib\\site-packages (from huggingface-hub>=0.21.0->accelerate) (4.13.1)\n",
      "Requirement already satisfied: networkx in d:\\visual code\\classifier\\venv\\lib\\site-packages (from torch>=2.0.0->accelerate) (3.4.2)\n",
      "Requirement already satisfied: jinja2 in d:\\visual code\\classifier\\venv\\lib\\site-packages (from torch>=2.0.0->accelerate) (3.1.6)\n",
      "Requirement already satisfied: setuptools in d:\\visual code\\classifier\\venv\\lib\\site-packages (from torch>=2.0.0->accelerate) (78.1.0)\n",
      "Requirement already satisfied: sympy==1.13.1 in d:\\visual code\\classifier\\venv\\lib\\site-packages (from torch>=2.0.0->accelerate) (1.13.1)\n",
      "Requirement already satisfied: mpmath<1.4,>=1.1.0 in d:\\visual code\\classifier\\venv\\lib\\site-packages (from sympy==1.13.1->torch>=2.0.0->accelerate) (1.3.0)\n",
      "Requirement already satisfied: colorama in d:\\visual code\\classifier\\venv\\lib\\site-packages (from tqdm>=4.42.1->huggingface-hub>=0.21.0->accelerate) (0.4.6)\n",
      "Requirement already satisfied: MarkupSafe>=2.0 in d:\\visual code\\classifier\\venv\\lib\\site-packages (from jinja2->torch>=2.0.0->accelerate) (3.0.2)\n",
      "Requirement already satisfied: charset-normalizer<4,>=2 in d:\\visual code\\classifier\\venv\\lib\\site-packages (from requests->huggingface-hub>=0.21.0->accelerate) (3.4.1)\n",
      "Requirement already satisfied: idna<4,>=2.5 in d:\\visual code\\classifier\\venv\\lib\\site-packages (from requests->huggingface-hub>=0.21.0->accelerate) (3.10)\n",
      "Requirement already satisfied: urllib3<3,>=1.21.1 in d:\\visual code\\classifier\\venv\\lib\\site-packages (from requests->huggingface-hub>=0.21.0->accelerate) (2.3.0)\n",
      "Requirement already satisfied: certifi>=2017.4.17 in d:\\visual code\\classifier\\venv\\lib\\site-packages (from requests->huggingface-hub>=0.21.0->accelerate) (2025.1.31)\n"
     ]
    },
    {
     "name": "stderr",
     "output_type": "stream",
     "text": [
      "\n",
      "[notice] A new release of pip is available: 24.0 -> 25.0.1\n",
      "[notice] To update, run: python.exe -m pip install --upgrade pip\n"
     ]
    },
    {
     "name": "stdout",
     "output_type": "stream",
     "text": [
      "Requirement already satisfied: bitsandbytes in d:\\visual code\\classifier\\venv\\lib\\site-packages (0.45.5)\n",
      "Requirement already satisfied: torch<3,>=2.0 in d:\\visual code\\classifier\\venv\\lib\\site-packages (from bitsandbytes) (2.5.1+cu121)\n",
      "Requirement already satisfied: numpy>=1.17 in d:\\visual code\\classifier\\venv\\lib\\site-packages (from bitsandbytes) (2.2.4)\n",
      "Requirement already satisfied: filelock in d:\\visual code\\classifier\\venv\\lib\\site-packages (from torch<3,>=2.0->bitsandbytes) (3.18.0)\n",
      "Requirement already satisfied: typing-extensions>=4.8.0 in d:\\visual code\\classifier\\venv\\lib\\site-packages (from torch<3,>=2.0->bitsandbytes) (4.13.1)\n",
      "Requirement already satisfied: networkx in d:\\visual code\\classifier\\venv\\lib\\site-packages (from torch<3,>=2.0->bitsandbytes) (3.4.2)\n",
      "Requirement already satisfied: jinja2 in d:\\visual code\\classifier\\venv\\lib\\site-packages (from torch<3,>=2.0->bitsandbytes) (3.1.6)\n",
      "Requirement already satisfied: fsspec in d:\\visual code\\classifier\\venv\\lib\\site-packages (from torch<3,>=2.0->bitsandbytes) (2025.3.2)\n",
      "Requirement already satisfied: setuptools in d:\\visual code\\classifier\\venv\\lib\\site-packages (from torch<3,>=2.0->bitsandbytes) (78.1.0)\n",
      "Requirement already satisfied: sympy==1.13.1 in d:\\visual code\\classifier\\venv\\lib\\site-packages (from torch<3,>=2.0->bitsandbytes) (1.13.1)\n",
      "Requirement already satisfied: mpmath<1.4,>=1.1.0 in d:\\visual code\\classifier\\venv\\lib\\site-packages (from sympy==1.13.1->torch<3,>=2.0->bitsandbytes) (1.3.0)\n",
      "Requirement already satisfied: MarkupSafe>=2.0 in d:\\visual code\\classifier\\venv\\lib\\site-packages (from jinja2->torch<3,>=2.0->bitsandbytes) (3.0.2)\n"
     ]
    },
    {
     "name": "stderr",
     "output_type": "stream",
     "text": [
      "\n",
      "[notice] A new release of pip is available: 24.0 -> 25.0.1\n",
      "[notice] To update, run: python.exe -m pip install --upgrade pip\n"
     ]
    },
    {
     "name": "stdout",
     "output_type": "stream",
     "text": [
      "Looking in indexes: https://download.pytorch.org/whl/cu121\n",
      "Requirement already satisfied: torch in d:\\visual code\\classifier\\venv\\lib\\site-packages (2.5.1+cu121)\n",
      "Requirement already satisfied: torchvision in d:\\visual code\\classifier\\venv\\lib\\site-packages (0.20.1+cu121)\n",
      "Requirement already satisfied: torchaudio in d:\\visual code\\classifier\\venv\\lib\\site-packages (2.5.1+cu121)\n",
      "Requirement already satisfied: filelock in d:\\visual code\\classifier\\venv\\lib\\site-packages (from torch) (3.18.0)\n",
      "Requirement already satisfied: typing-extensions>=4.8.0 in d:\\visual code\\classifier\\venv\\lib\\site-packages (from torch) (4.13.1)\n",
      "Requirement already satisfied: networkx in d:\\visual code\\classifier\\venv\\lib\\site-packages (from torch) (3.4.2)\n",
      "Requirement already satisfied: jinja2 in d:\\visual code\\classifier\\venv\\lib\\site-packages (from torch) (3.1.6)\n",
      "Requirement already satisfied: fsspec in d:\\visual code\\classifier\\venv\\lib\\site-packages (from torch) (2025.3.2)\n",
      "Requirement already satisfied: setuptools in d:\\visual code\\classifier\\venv\\lib\\site-packages (from torch) (78.1.0)\n",
      "Requirement already satisfied: sympy==1.13.1 in d:\\visual code\\classifier\\venv\\lib\\site-packages (from torch) (1.13.1)\n",
      "Requirement already satisfied: mpmath<1.4,>=1.1.0 in d:\\visual code\\classifier\\venv\\lib\\site-packages (from sympy==1.13.1->torch) (1.3.0)\n",
      "Requirement already satisfied: numpy in d:\\visual code\\classifier\\venv\\lib\\site-packages (from torchvision) (2.2.4)\n",
      "Requirement already satisfied: pillow!=8.3.*,>=5.3.0 in d:\\visual code\\classifier\\venv\\lib\\site-packages (from torchvision) (11.0.0)\n",
      "Requirement already satisfied: MarkupSafe>=2.0 in d:\\visual code\\classifier\\venv\\lib\\site-packages (from jinja2->torch) (3.0.2)\n"
     ]
    },
    {
     "name": "stderr",
     "output_type": "stream",
     "text": [
      "\n",
      "[notice] A new release of pip is available: 24.0 -> 25.0.1\n",
      "[notice] To update, run: python.exe -m pip install --upgrade pip\n"
     ]
    }
   ],
   "source": [
    "!pip install transformers\n",
    "!pip install scikit-learn \n",
    "!pip install pandas\n",
    "!pip install accelerate\n",
    "!pip install bitsandbytes\n",
    "!pip install torch torchvision torchaudio --index-url https://download.pytorch.org/whl/cu121"
   ]
  },
  {
   "cell_type": "code",
   "execution_count": 2,
   "id": "81d16a8e",
   "metadata": {},
   "outputs": [
    {
     "name": "stderr",
     "output_type": "stream",
     "text": [
      "d:\\Visual Code\\Classifier\\venv\\Lib\\site-packages\\tqdm\\auto.py:21: TqdmWarning: IProgress not found. Please update jupyter and ipywidgets. See https://ipywidgets.readthedocs.io/en/stable/user_install.html\n",
      "  from .autonotebook import tqdm as notebook_tqdm\n"
     ]
    }
   ],
   "source": [
    "import os\n",
    "import torch\n",
    "from torch import nn\n",
    "from torch.utils.data import DataLoader, Dataset\n",
    "from torch.optim import AdamW\n",
    "from transformers import BertTokenizer, BertModel, get_linear_schedule_with_warmup\n",
    "from sklearn.model_selection import train_test_split\n",
    "from sklearn.metrics import accuracy_score, classification_report\n",
    "import pandas as pd"
   ]
  },
  {
   "cell_type": "markdown",
   "id": "716c2091",
   "metadata": {},
   "source": [
    "## Etapa 2: Importe o conjunto de dados IMDB e pré-processe-o\n",
    "\n",
    "O código abaixo define uma função load_imdb_data que lê um arquivo CSV contendo resenhas de filmes do IMDB e seus sentimentos correspondentes. Ele retorna uma lista de textos de resenhas e uma lista de rótulos, onde 1 representa um sentimento positivo e 0 representa um sentimento negativo."
   ]
  },
  {
   "cell_type": "code",
   "execution_count": 3,
   "id": "f8778125",
   "metadata": {},
   "outputs": [],
   "source": [
    "def load_imdb_data(data_file):\n",
    "    df = pd.read_csv(data_file)\n",
    "    texts = df['review'].tolist()\n",
    "    labels = [1 if sentiment == \"positive\" else 0 for sentiment in df['sentiment'].tolist()]\n",
    "    return texts, labels"
   ]
  },
  {
   "cell_type": "markdown",
   "id": "7f578935",
   "metadata": {},
   "source": [
    "Em seguida, salvaremos nosso diretório de conjunto de dados e o inseriremos como uma entrada na função load_imdb_data()."
   ]
  },
  {
   "cell_type": "code",
   "execution_count": 4,
   "id": "7b214cf6",
   "metadata": {},
   "outputs": [],
   "source": [
    "data_file = \"data/IMDB Dataset.csv\"\n",
    "texts, labels = load_imdb_data(data_file)"
   ]
  },
  {
   "cell_type": "markdown",
   "id": "0934b827",
   "metadata": {},
   "source": [
    "## Etapa 3: Crie uma classe de conjunto de dados personalizada para classificação de texto\n",
    "\n",
    "Esta é uma classe de conjunto de dados personalizado que ajuda a organizar as avaliações de filmes e seus sentimentos para nosso modelo BERT. Ela cuida da tokenização do texto, manipulando o comprimento da sequência e fornecendo um pacote organizado com IDs de entrada, máscaras de atenção e rótulos para nosso modelo aprender."
   ]
  },
  {
   "cell_type": "code",
   "execution_count": 5,
   "id": "111f8b18",
   "metadata": {},
   "outputs": [],
   "source": [
    "class TextClassificationDataset(Dataset):\n",
    "    def __init__(self, texts, labels, tokenizer, max_length):\n",
    "        self.texts = texts\n",
    "        self.labels = labels\n",
    "        self.tokenizer = tokenizer\n",
    "        self.max_length = max_length\n",
    "    def __len__(self):\n",
    "        return len(self.texts)\n",
    "    def __getitem__(self, idx):\n",
    "        text = self.texts[idx]\n",
    "        label = self.labels[idx]\n",
    "        encoding = self.tokenizer(text, return_tensors='pt', max_length=self.max_length, padding='max_length', truncation=True)\n",
    "        return {'input_ids': encoding['input_ids'].flatten(), 'attention_mask': encoding['attention_mask'].flatten(), 'label': torch.tensor(label)}\n"
   ]
  },
  {
   "cell_type": "markdown",
   "id": "4caf2b3a",
   "metadata": {},
   "source": [
    "## Etapa 4: construir nosso classificador BERT do cliente\n",
    "\n",
    "Nesta etapa, pretendemos criar nosso próprio classificador BERT personalizado. O classificador é construído sobre o famoso modelo BERT, que é ótimo para entender texto. Adicionaremos então uma camada de dropout para manter as coisas sob controle e uma camada linear para nos ajudar a classificar o texto.\n",
    "\n",
    "Nosso BERTClassifier pega alguns IDs de entrada e máscaras de atenção, e os executa por meio do BERT e das camadas extras que adicionamos. O classificador retorna nossa saída como pontuações de classe."
   ]
  },
  {
   "cell_type": "code",
   "execution_count": 6,
   "id": "dae9d7ac",
   "metadata": {},
   "outputs": [],
   "source": [
    "class BERTClassifier(nn.Module):\n",
    "    def __init__(self, bert_model_name, num_classes):\n",
    "        super(BERTClassifier, self).__init__()\n",
    "        self.bert = BertModel.from_pretrained(bert_model_name)\n",
    "        self.dropout = nn.Dropout(0.1)\n",
    "        self.fc = nn.Linear(self.bert.config.hidden_size, num_classes)\n",
    "\n",
    "    def forward(self, input_ids, attention_mask):\n",
    "        outputs = self.bert(input_ids=input_ids, attention_mask=attention_mask)\n",
    "        pooled_output = outputs.pooler_output\n",
    "        x = self.dropout(pooled_output)\n",
    "        logits = self.fc(x)\n",
    "        return logits"
   ]
  },
  {
   "cell_type": "markdown",
   "id": "2ba23c8e",
   "metadata": {},
   "source": [
    "## Etapa 5: Defina a função train()\n",
    "\n",
    "A função train() pega o modelo, o carregador de dados, o otimizador, o planejador e o dispositivo como seus trainees. A função coloca o modelo no modo de treinamento e então executa cada lote de dados do carregador de dados. Para cada lote, ela limpa os gradientes do otimizador, obtém os IDs de entrada, máscaras de atenção e rótulos, e os alimenta para o modelo."
   ]
  },
  {
   "cell_type": "code",
   "execution_count": 7,
   "id": "9d8b6856",
   "metadata": {},
   "outputs": [],
   "source": [
    "def train(model, data_loader, optimizer, scheduler, device):\n",
    "    model.train()\n",
    "    for batch in data_loader:\n",
    "        optimizer.zero_grad()\n",
    "        input_ids = batch['input_ids'].to(device)\n",
    "        attention_mask = batch['attention_mask'].to(device)\n",
    "        labels = batch['label'].to(device)\n",
    "        outputs = model(input_ids=input_ids, attention_mask=attention_mask)\n",
    "        loss = nn.CrossEntropyLoss()(outputs, labels)\n",
    "        loss.backward()\n",
    "        optimizer.step()\n",
    "        scheduler.step()"
   ]
  },
  {
   "cell_type": "markdown",
   "id": "7a3e1241",
   "metadata": {},
   "source": [
    "## Etapa 6: Construir nosso método de avaliação"
   ]
  },
  {
   "cell_type": "code",
   "execution_count": 8,
   "id": "e3d31eb0",
   "metadata": {},
   "outputs": [],
   "source": [
    "def evaluate(model, data_loader, device):\n",
    "    model.eval()\n",
    "    predictions = []\n",
    "    actual_labels = []\n",
    "    with torch.no_grad():\n",
    "        for batch in data_loader:\n",
    "            input_ids = batch['input_ids'].to(device)\n",
    "            attention_mask = batch['attention_mask'].to(device)\n",
    "            labels = batch['label'].to(device)\n",
    "            outputs = model(input_ids=input_ids, attention_mask=attention_mask)\n",
    "            _, preds = torch.max(outputs, dim=1)\n",
    "            predictions.extend(preds.cpu().tolist())\n",
    "            actual_labels.extend(labels.cpu().tolist())\n",
    "    return accuracy_score(actual_labels, predictions), classification_report(actual_labels, predictions)"
   ]
  },
  {
   "cell_type": "markdown",
   "id": "8e4ca134",
   "metadata": {},
   "source": [
    "## Etapa 7: Defina os parâmetros do nosso modelo\n",
    "\n",
    "Aqui, vamos configurar parâmetros essenciais para ajustar o BERTClassifier, incluindo o nome do modelo BERT, número de classes, comprimento máximo da sequência de entrada, tamanho do lote, número de períodos de treinamento e taxa de aprendizado, para ajudar o modelo a entender efetivamente as críticas de filmes e seus sentimentos."
   ]
  },
  {
   "cell_type": "code",
   "execution_count": 9,
   "id": "e66ecc4a",
   "metadata": {},
   "outputs": [],
   "source": [
    "bert_model_name = \"google-bert/bert-base-uncased\"\n",
    "num_classes = 2\n",
    "max_length = 64\n",
    "batch_size = 8     \n",
    "num_epochs = 4\n",
    "learning_rate = 2e-5"
   ]
  },
  {
   "cell_type": "markdown",
   "id": "d3f504c1",
   "metadata": {},
   "source": [
    "## Etapa 8: Carregando e dividindo os dados."
   ]
  },
  {
   "cell_type": "code",
   "execution_count": 10,
   "id": "2c34be2d",
   "metadata": {},
   "outputs": [],
   "source": [
    "train_texts, val_texts, train_labels, val_labels = train_test_split(texts, labels, test_size=0.2, random_state=42)"
   ]
  },
  {
   "cell_type": "markdown",
   "id": "8d6f7d31",
   "metadata": {},
   "source": [
    "## Etapa 9: inicializar o tokenizador, o conjunto de dados e o carregador de dados\n",
    "\n",
    "Para Windows na classe DataLoader o num_workers=0"
   ]
  },
  {
   "cell_type": "code",
   "execution_count": 11,
   "id": "ae5efdbd",
   "metadata": {},
   "outputs": [],
   "source": [
    "tokenizer = BertTokenizer.from_pretrained(bert_model_name)\n",
    "train_dataset = TextClassificationDataset(train_texts, train_labels, tokenizer, max_length)\n",
    "val_dataset = TextClassificationDataset(val_texts, val_labels, tokenizer, max_length)\n",
    "train_dataloader = DataLoader(train_dataset, batch_size=batch_size, num_workers=0, shuffle=True)\n",
    "val_dataloader = DataLoader(val_dataset, batch_size=batch_size)"
   ]
  },
  {
   "cell_type": "markdown",
   "id": "b711d81d",
   "metadata": {},
   "source": [
    "## Etapa 10: Configurar o dispositivo e o modelo"
   ]
  },
  {
   "cell_type": "code",
   "execution_count": 12,
   "id": "f54618e8",
   "metadata": {},
   "outputs": [
    {
     "name": "stdout",
     "output_type": "stream",
     "text": [
      "True\n",
      "12.1\n"
     ]
    }
   ],
   "source": [
    "print(torch.cuda.is_available())\n",
    "print(torch.version.cuda)"
   ]
  },
  {
   "cell_type": "code",
   "execution_count": 13,
   "id": "d0818b55",
   "metadata": {},
   "outputs": [
    {
     "name": "stdout",
     "output_type": "stream",
     "text": [
      "cuda\n"
     ]
    }
   ],
   "source": [
    "device = torch.device(\"cuda\" if torch.cuda.is_available() else \"cpu\")\n",
    "model = BERTClassifier(bert_model_name, num_classes).to(device)\n",
    "print(device)"
   ]
  },
  {
   "cell_type": "markdown",
   "id": "2fc018de",
   "metadata": {},
   "source": [
    "## Etapa 11: Configurar o otimizador e o planejador de taxa de aprendizagem"
   ]
  },
  {
   "cell_type": "code",
   "execution_count": 14,
   "id": "b81c8bd2",
   "metadata": {},
   "outputs": [],
   "source": [
    "optimizer = AdamW(model.parameters(), lr=learning_rate)\n",
    "total_steps = len(train_dataloader) * num_epochs\n",
    "scheduler = get_linear_schedule_with_warmup(optimizer, num_warmup_steps=0, num_training_steps=total_steps)"
   ]
  },
  {
   "cell_type": "markdown",
   "id": "8046f684",
   "metadata": {},
   "source": [
    "## Etapa 12: Treinando o modelo"
   ]
  },
  {
   "cell_type": "code",
   "execution_count": 15,
   "id": "f6c85d7b",
   "metadata": {},
   "outputs": [
    {
     "name": "stdout",
     "output_type": "stream",
     "text": [
      "Epoch 1/4\n",
      "Validation Accuracy: 0.8463\n",
      "              precision    recall  f1-score   support\n",
      "\n",
      "           0       0.88      0.80      0.84      4961\n",
      "           1       0.82      0.89      0.85      5039\n",
      "\n",
      "    accuracy                           0.85     10000\n",
      "   macro avg       0.85      0.85      0.85     10000\n",
      "weighted avg       0.85      0.85      0.85     10000\n",
      "\n",
      "Epoch 2/4\n",
      "Validation Accuracy: 0.8533\n",
      "              precision    recall  f1-score   support\n",
      "\n",
      "           0       0.86      0.84      0.85      4961\n",
      "           1       0.85      0.87      0.86      5039\n",
      "\n",
      "    accuracy                           0.85     10000\n",
      "   macro avg       0.85      0.85      0.85     10000\n",
      "weighted avg       0.85      0.85      0.85     10000\n",
      "\n",
      "Epoch 3/4\n",
      "Validation Accuracy: 0.8532\n",
      "              precision    recall  f1-score   support\n",
      "\n",
      "           0       0.87      0.82      0.85      4961\n",
      "           1       0.84      0.88      0.86      5039\n",
      "\n",
      "    accuracy                           0.85     10000\n",
      "   macro avg       0.85      0.85      0.85     10000\n",
      "weighted avg       0.85      0.85      0.85     10000\n",
      "\n",
      "Epoch 4/4\n",
      "Validation Accuracy: 0.8567\n",
      "              precision    recall  f1-score   support\n",
      "\n",
      "           0       0.87      0.84      0.85      4961\n",
      "           1       0.85      0.87      0.86      5039\n",
      "\n",
      "    accuracy                           0.86     10000\n",
      "   macro avg       0.86      0.86      0.86     10000\n",
      "weighted avg       0.86      0.86      0.86     10000\n",
      "\n"
     ]
    }
   ],
   "source": [
    "for epoch in range(num_epochs):\n",
    "    print(f\"Epoch {epoch + 1}/{num_epochs}\")\n",
    "    train(model, train_dataloader, optimizer, scheduler, device)\n",
    "    accuracy, report = evaluate(model, val_dataloader, device)\n",
    "    print(f\"Validation Accuracy: {accuracy:.4f}\")\n",
    "    print(report)"
   ]
  },
  {
   "cell_type": "markdown",
   "id": "85d94991",
   "metadata": {},
   "source": [
    "Salvando o modelo final\n",
    "\n"
   ]
  },
  {
   "cell_type": "code",
   "execution_count": 16,
   "id": "2339956b",
   "metadata": {},
   "outputs": [],
   "source": [
    "torch.save(model.state_dict(), \"bert_classifier.bin\")"
   ]
  },
  {
   "cell_type": "markdown",
   "id": "c9a5837d",
   "metadata": {},
   "source": [
    "## Etapa 13: Construa nosso método de previsão\n",
    "\n",
    "A função predict_sentiment() atua como nosso método de avaliação. Para cada lote, ela obtém os IDs de entrada, máscaras de atenção e rótulos e os alimenta para o modelo. O modelo então fornece suas melhores previsões, que são comparadas aos rótulos reais.\n",
    "\n",
    "Por fim, a função calcula a pontuação de precisão e um relatório de classificação para nos informar o quão bem o modelo se saiu na compreensão dos sentimentos das críticas de filmes."
   ]
  },
  {
   "cell_type": "code",
   "execution_count": 17,
   "id": "3f9dec5d",
   "metadata": {},
   "outputs": [],
   "source": [
    "def predict_sentiment(text, model, tokenizer, device, max_length=128):\n",
    "    model.eval()\n",
    "    encoding = tokenizer(text, return_tensors='pt', max_length=max_length, padding='max_length', truncation=True)\n",
    "    input_ids = encoding['input_ids'].to(device)\n",
    "    attention_mask = encoding['attention_mask'].to(device)\n",
    "\n",
    "    with torch.no_grad():\n",
    "        outputs = model(input_ids=input_ids, attention_mask=attention_mask)\n",
    "        _, preds = torch.max(outputs, dim=1)\n",
    "        \n",
    "    return \"positive\" if preds.item() == 1 else \"negative\""
   ]
  },
  {
   "cell_type": "markdown",
   "id": "ff50fd1f",
   "metadata": {},
   "source": [
    "## Etapa 14: Avaliando o desempenho do nosso modelo"
   ]
  },
  {
   "cell_type": "code",
   "execution_count": 20,
   "id": "63559882",
   "metadata": {},
   "outputs": [
    {
     "name": "stdout",
     "output_type": "stream",
     "text": [
      "The movie is very good and I recommend it to everyone.\n",
      "Predicted sentiment: positive\n"
     ]
    }
   ],
   "source": [
    "test_text = \"The movie is very good and I recommend it to everyone.\"\n",
    "sentiment = predict_sentiment(test_text, model, tokenizer, device)\n",
    "print(\"The movie is very good and I recommend it to everyone.\")\n",
    "print(f\"Predicted sentiment: {sentiment}\")"
   ]
  },
  {
   "cell_type": "markdown",
   "id": "cf7f0856",
   "metadata": {},
   "source": [
    "Resultado: O filme é muito ruim e eu não o recomendaria a ninguém.\n",
    "\n",
    "Sentimento previsto: negativo"
   ]
  },
  {
   "cell_type": "code",
   "execution_count": 21,
   "id": "fa9dfd7a",
   "metadata": {},
   "outputs": [
    {
     "name": "stdout",
     "output_type": "stream",
     "text": [
      "Worst movie of the year.\n",
      "Predicted sentiment: negative\n"
     ]
    }
   ],
   "source": [
    "test_text = \"Worst movie of the year.\"\n",
    "sentiment = predict_sentiment(test_text, model, tokenizer, device)\n",
    "print(\"Worst movie of the year.\")\n",
    "print(f\"Predicted sentiment: {sentiment}\")"
   ]
  },
  {
   "cell_type": "markdown",
   "id": "9771abba",
   "metadata": {},
   "source": [
    "Resultado: Pior filme do ano.\n",
    "\n",
    "Sentimento previsto: negativo\n",
    "\n"
   ]
  },
  {
   "cell_type": "markdown",
   "id": "2c43a190",
   "metadata": {},
   "source": [
    "## Considerações finais sobre a classificação de texto usando BERT\n",
    "\n",
    "Para resumir, o BERT mudou seriamente o jogo quando se trata de classificação de texto. Ele tornou coisas como análise de sentimentos e classificação de tópicos muito melhores e mais rápidas. Ao pegar esses modelos pré-treinados e personalizá-los para nossos próprios projetos, estamos obtendo resultados incríveis que nos ajudam no mundo real.\n",
    "\n",
    "À medida que continuamos experimentando o BERT e modelos similares, não há dúvidas de que veremos ainda mais coisas legais acontecendo no mundo da IA ​​e da compreensão de linguagem."
   ]
  }
 ],
 "metadata": {
  "kernelspec": {
   "display_name": "venv",
   "language": "python",
   "name": "python3"
  },
  "language_info": {
   "codemirror_mode": {
    "name": "ipython",
    "version": 3
   },
   "file_extension": ".py",
   "mimetype": "text/x-python",
   "name": "python",
   "nbconvert_exporter": "python",
   "pygments_lexer": "ipython3",
   "version": "3.12.4"
  }
 },
 "nbformat": 4,
 "nbformat_minor": 5
}
